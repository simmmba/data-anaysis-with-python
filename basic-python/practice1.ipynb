{
 "cells": [
  {
   "cell_type": "code",
   "execution_count": 4,
   "metadata": {},
   "outputs": [
    {
     "name": "stdout",
     "output_type": "stream",
     "text": [
      "Hello World\n"
     ]
    }
   ],
   "source": [
    "print(\"Hello World\")"
   ]
  },
  {
   "cell_type": "code",
   "execution_count": 6,
   "metadata": {},
   "outputs": [
    {
     "data": {
      "text/plain": [
       "'여러줄 주석'"
      ]
     },
     "execution_count": 6,
     "metadata": {},
     "output_type": "execute_result"
    }
   ],
   "source": [
    "# 한 줄 주석\n",
    "'''여러줄 주석'''"
   ]
  },
  {
   "cell_type": "code",
   "execution_count": 9,
   "metadata": {},
   "outputs": [
    {
     "name": "stdout",
     "output_type": "stream",
     "text": [
      "hello\n"
     ]
    }
   ],
   "source": [
    "num = 1\n",
    "str1 = \"hello\"\n",
    "print(str1)"
   ]
  },
  {
   "cell_type": "code",
   "execution_count": 10,
   "metadata": {},
   "outputs": [
    {
     "name": "stdout",
     "output_type": "stream",
     "text": [
      "<class 'int'>\n"
     ]
    }
   ],
   "source": [
    "intValue = int('1')\n",
    "print(type(intValue))"
   ]
  },
  {
   "cell_type": "code",
   "execution_count": 14,
   "metadata": {
    "scrolled": true
   },
   "outputs": [
    {
     "name": "stdout",
     "output_type": "stream",
     "text": [
      "1\n",
      "Input a value : 2\n",
      "3\n",
      "hello\n",
      "1+1= 2 1 2 3.0\n"
     ]
    }
   ],
   "source": [
    "value1 = input()\n",
    "value2 = input(\"Input a value : \")\n",
    "value3 = float(input())\n",
    "print(\"hello\")\n",
    "print(\"1+1=\", 2, value1, value2, value3)"
   ]
  },
  {
   "cell_type": "code",
   "execution_count": 15,
   "metadata": {},
   "outputs": [
    {
     "name": "stdout",
     "output_type": "stream",
     "text": [
      "1\n"
     ]
    }
   ],
   "source": [
    "print(intValue)"
   ]
  },
  {
   "cell_type": "code",
   "execution_count": 23,
   "metadata": {},
   "outputs": [
    {
     "name": "stdout",
     "output_type": "stream",
     "text": [
      "76\n"
     ]
    }
   ],
   "source": [
    "from random import *\n",
    " \n",
    "i = randint(1, 100)  # 1부터 100 사이의 임의의 정수\n",
    "print(i)"
   ]
  },
  {
   "cell_type": "code",
   "execution_count": 2,
   "metadata": {},
   "outputs": [
    {
     "name": "stdout",
     "output_type": "stream",
     "text": [
      "1.5\n",
      "1\n",
      "10\n"
     ]
    }
   ],
   "source": [
    "a = 30\n",
    "b = 20\n",
    "\n",
    "result = a / b\n",
    "print(result)\n",
    "\n",
    "result = a // b # 나눴을 때 몫\n",
    "print(result)\n",
    "\n",
    "result = a % b\n",
    "print(result)"
   ]
  },
  {
   "cell_type": "code",
   "execution_count": 29,
   "metadata": {},
   "outputs": [
    {
     "name": "stdout",
     "output_type": "stream",
     "text": [
      "['a', 'b', 'c']\n",
      "b\n",
      "[20, 'aa', 'bb', False]\n"
     ]
    }
   ],
   "source": [
    "names = ['a', 'b', 'c']\n",
    "print(names)\n",
    "print(names[1])\n",
    "\n",
    "data = [20, 'aa', 'bb', False]\n",
    "print(data)"
   ]
  },
  {
   "cell_type": "markdown",
   "metadata": {},
   "source": [
    "### 사전(딕셔너리)"
   ]
  },
  {
   "cell_type": "code",
   "execution_count": 20,
   "metadata": {},
   "outputs": [
    {
     "name": "stdout",
     "output_type": "stream",
     "text": [
      "{'title': 'test', 'detail': 'blabla'}\n",
      "test\n",
      "blabla\n",
      "None\n"
     ]
    }
   ],
   "source": [
    "user = {} # 사전을 쓰기 위한 초기 선언\n",
    "user['title'] = \"test\" # key-value 지정\n",
    "user['detail'] = \"blabla\"\n",
    "\n",
    "print(user)\n",
    "print(user['title']) # 방법 1\n",
    "print(user.get('detail'))# 방법 2 -> 권장. key 없어도 에러 발생 안함\n",
    "print(user.get('nothing'))"
   ]
  },
  {
   "cell_type": "markdown",
   "metadata": {},
   "source": [
    "### IF"
   ]
  },
  {
   "cell_type": "code",
   "execution_count": 30,
   "metadata": {},
   "outputs": [
    {
     "name": "stdout",
     "output_type": "stream",
     "text": [
      "False\n"
     ]
    }
   ],
   "source": [
    "if not data[3]: # java에서 ! 대신 not 사용\n",
    "    print(data[3])\n",
    "elif data[2] == 'bb':\n",
    "    print(data[2])\n",
    "else:\n",
    "    print(data[1])"
   ]
  },
  {
   "cell_type": "markdown",
   "metadata": {},
   "source": [
    "### FOR"
   ]
  },
  {
   "cell_type": "code",
   "execution_count": 40,
   "metadata": {},
   "outputs": [
    {
     "name": "stdout",
     "output_type": "stream",
     "text": [
      "2\n",
      "4\n",
      "6\n",
      "8\n",
      "10\n",
      "1\n",
      "2\n",
      "3\n",
      "4\n",
      "5\n"
     ]
    }
   ],
   "source": [
    "num = [1, 2, 3, 4, 5, 6, 7, 8, 9, 10]\n",
    "\n",
    "for n in num:\n",
    "    if n % 2 == 0:\n",
    "        print(n)\n",
    "        \n",
    "for n in num:\n",
    "    if n > 5:\n",
    "        break\n",
    "    else:\n",
    "        print(n)"
   ]
  },
  {
   "cell_type": "markdown",
   "metadata": {},
   "source": [
    "### Function"
   ]
  },
  {
   "cell_type": "code",
   "execution_count": 41,
   "metadata": {},
   "outputs": [
    {
     "name": "stdout",
     "output_type": "stream",
     "text": [
      "6\n"
     ]
    }
   ],
   "source": [
    "def add(x, y, z): # 함수명 앞에 def 붙여주기\n",
    "    return x + y + z\n",
    "\n",
    "result = add(1, 2, 3)\n",
    "print(result)"
   ]
  },
  {
   "cell_type": "markdown",
   "metadata": {},
   "source": [
    "### 내장 함수"
   ]
  },
  {
   "cell_type": "code",
   "execution_count": 58,
   "metadata": {},
   "outputs": [
    {
     "data": {
      "text/plain": [
       "23"
      ]
     },
     "execution_count": 58,
     "metadata": {},
     "output_type": "execute_result"
    }
   ],
   "source": [
    "test = \"Hello, Nice to Meet You\"\n",
    "\n",
    "test.upper() # .upper : 대문자로 바꿔줌\n",
    "test.lower() # .lower : 소문자로 바꿔줌\n",
    "test.count('l') # .count : 텍스트 안의 알파벳 세줌\n",
    "test.replace(\"Meet\", \"See\") # .replace : 문자열 바꿔줌\n",
    "test.split() # .split : 문자열을 나눠줌. 아무 값도 넣지 않으면 공백 기준\n",
    "test.split(\",\")\n",
    "test.swapcase() # .swapcase : 대문자와 소문자를 바꿔줌\n",
    "\n",
    "str(5.0) # str : 문자열로 바꿔주는 함수\n",
    "len(test) # len : 길이를 알려주는 함수"
   ]
  },
  {
   "cell_type": "markdown",
   "metadata": {},
   "source": [
    "#### 참고 링크\n",
    "https://software-creator.tistory.com/18\n",
    "http://www.yes24.com/Product/Goods/11043328?scode=032&OzSrank=1\n",
    "\n",
    "##### 필수 파이썬 라이브러리\n",
    "- NumPy\n",
    "- pandas\n",
    "- matplotlib\n",
    "- IPython\n",
    "- SciPy"
   ]
  }
 ],
 "metadata": {
  "kernelspec": {
   "display_name": "Python 3",
   "language": "python",
   "name": "python3"
  },
  "language_info": {
   "codemirror_mode": {
    "name": "ipython",
    "version": 3
   },
   "file_extension": ".py",
   "mimetype": "text/x-python",
   "name": "python",
   "nbconvert_exporter": "python",
   "pygments_lexer": "ipython3",
   "version": "3.6.8"
  }
 },
 "nbformat": 4,
 "nbformat_minor": 4
}
