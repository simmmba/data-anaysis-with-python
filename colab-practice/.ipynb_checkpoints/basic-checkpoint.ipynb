{
 "cells": [
  {
   "cell_type": "markdown",
   "metadata": {
    "colab_type": "text",
    "id": "W36valWQtwQZ"
   },
   "source": [
    "# Day9. 기본과제"
   ]
  },
  {
   "cell_type": "markdown",
   "metadata": {
    "colab_type": "text",
    "id": "DO_1JXiouAl6"
   },
   "source": [
    "Req-1. basic.\n",
    "ipynb 파일을 생 성 한 후 Hello World 를 출력해 보세요"
   ]
  },
  {
   "cell_type": "code",
   "execution_count": 0,
   "metadata": {
    "colab": {},
    "colab_type": "code",
    "id": "Pfsg09I9tk5X"
   },
   "outputs": [],
   "source": []
  },
  {
   "cell_type": "markdown",
   "metadata": {
    "colab_type": "text",
    "id": "z4NNosw4uXYb"
   },
   "source": [
    "Req-2. basic.ipynb\n",
    "파일에 일주일은 몇 초 인지 표시하는 코드를 자유롭게 Colab\n",
    "에 추가 후 실행해 보세요.\n"
   ]
  },
  {
   "cell_type": "code",
   "execution_count": 0,
   "metadata": {
    "colab": {},
    "colab_type": "code",
    "id": "EBFtuSJ5ucRf"
   },
   "outputs": [],
   "source": []
  },
  {
   "cell_type": "markdown",
   "metadata": {
    "colab_type": "text",
    "id": "eXrif04YxRFN"
   },
   "source": [
    "Req-3. basic.ipynb\n",
    "파일에 Colab 의 코드 스니펫 창의 다음의 코드들을 추가 후\n",
    "실행해 보세요\n",
    "- Visualization: Linked Brushing in Altair\n",
    "- Camera Capture 를 추가해 본인의 얼굴을 찍어 보세요\n",
    "- 추가로 1 개의 코드 스니펫을 자유롭게 선택 하여 올려 놓습니다\n",
    "실행결과를\n",
    "그대로 저장해 주세요"
   ]
  },
  {
   "cell_type": "code",
   "execution_count": 0,
   "metadata": {
    "colab": {},
    "colab_type": "code",
    "id": "UX8zHjJKxRmd"
   },
   "outputs": [],
   "source": [
    "# Visualization: Linked Brushing in Altair"
   ]
  },
  {
   "cell_type": "code",
   "execution_count": 0,
   "metadata": {
    "colab": {},
    "colab_type": "code",
    "id": "niVhU2Ykxcmr"
   },
   "outputs": [],
   "source": [
    "# Camera Capture 를 추가해 본인의 얼굴을 찍어 보세요"
   ]
  },
  {
   "cell_type": "code",
   "execution_count": 0,
   "metadata": {
    "colab": {},
    "colab_type": "code",
    "id": "uuJ7Da1Pxclm"
   },
   "outputs": [],
   "source": [
    "# 추가로 1 개의 코드 스니펫을 자유롭게 선택 하여 올려 놓습니다 실행결과를 그대로 저장해 주세요"
   ]
  },
  {
   "cell_type": "markdown",
   "metadata": {
    "colab_type": "text",
    "id": "NQj8CFdAyJpW"
   },
   "source": [
    "Req-4. basic.ipynb\n",
    "파일에 Google Drive 연동을 하는 코드를 추가하고 본인의 구글\n",
    "드라이브 에 임의의 텍스트파일을 저장하는 코드를 작성해보세요 코드\n",
    "스니펫 의 Mounting Google Drive in your VM 을 사용해도 무방합니다"
   ]
  },
  {
   "cell_type": "code",
   "execution_count": 0,
   "metadata": {
    "colab": {},
    "colab_type": "code",
    "id": "qEZzGvS9yWqI"
   },
   "outputs": [],
   "source": []
  },
  {
   "cell_type": "markdown",
   "metadata": {
    "colab_type": "text",
    "id": "JFbuCKt0498V"
   },
   "source": [
    "Req-5. 다음의 GPU가속 예제코드를 실행해 보고 CPU 사용시 처리시간과 GPU 사용시 처리시간을 비교해 보고 마지막 블럭인“Observe TensorFlow speedup on GPU relative to CPU“의 결과를 복사해서 basic.ipynb의 Req-5 다음에 텍스트 형태로 붙여 주세요.\n",
    "☞ https://colab.research.google.com/notebooks/gpu.ipynb\n",
    "\n"
   ]
  },
  {
   "cell_type": "markdown",
   "metadata": {
    "colab_type": "text",
    "id": "Jugsiexy5Nze"
   },
   "source": [
    "Req.5의 실행결과는 다음과 같습니다.\n",
    "\n",
    "```\n",
    "이 부분에 실형결과를 붙여 넣으세요.\n",
    "```"
   ]
  },
  {
   "cell_type": "markdown",
   "metadata": {
    "colab_type": "text",
    "id": "PIJ4AdxxF7Rt"
   },
   "source": [
    "Req-6. basic.ipynb\n",
    "파일에 matplotlib 와 OpenCV 의 Drawing API 를 이용하여\n",
    "화면에 여러 가지 도 형을 그려주는 코드를 작성해 보세요."
   ]
  },
  {
   "cell_type": "code",
   "execution_count": 0,
   "metadata": {
    "colab": {},
    "colab_type": "code",
    "id": "yiN515qGGAKB"
   },
   "outputs": [],
   "source": []
  }
 ],
 "metadata": {
  "colab": {
   "authorship_tag": "ABX9TyO/wKuowCyqcYv12dSavuBU",
   "collapsed_sections": [],
   "name": "basic.ipynb",
   "provenance": [
    {
     "file_id": "1qS1B0h7BW4jr6qE2SPz_qYT3pDvQAI6k",
     "timestamp": 1584488497231
    }
   ]
  },
  "kernelspec": {
   "display_name": "Python 3",
   "language": "python",
   "name": "python3"
  },
  "language_info": {
   "codemirror_mode": {
    "name": "ipython",
    "version": 3
   },
   "file_extension": ".py",
   "mimetype": "text/x-python",
   "name": "python",
   "nbconvert_exporter": "python",
   "pygments_lexer": "ipython3",
   "version": "3.6.8"
  }
 },
 "nbformat": 4,
 "nbformat_minor": 1
}
