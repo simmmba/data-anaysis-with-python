{
 "cells": [
  {
   "cell_type": "markdown",
   "metadata": {},
   "source": [
    "# pandas\n",
    "\n",
    "- 데이터프레임 : 행과 열로 이루어진 표\n",
    "    - 데이터 프레임을 이용하면 각 열(컬럼)에 있는 값을 편하게 사용 가능\n",
    "        - ex) 평균 나이, 성적 상위 10% 등\n",
    "    - 행과 열로 데이터 구분\n",
    "        - 행 : index, 열 : column"
   ]
  },
  {
   "cell_type": "code",
   "execution_count": 2,
   "metadata": {},
   "outputs": [],
   "source": [
    "import pandas as pd"
   ]
  },
  {
   "cell_type": "code",
   "execution_count": 16,
   "metadata": {},
   "outputs": [
    {
     "name": "stdout",
     "output_type": "stream",
     "text": [
      "     name  price\n",
      "0   apple   1000\n",
      "1  banana   1500\n",
      "2   melon   3000\n",
      "(3, 2)\n",
      "0     apple\n",
      "1    banana\n",
      "2     melon\n",
      "Name: name, dtype: object\n",
      "    name  price\n",
      "0  apple   1000\n",
      "RangeIndex(start=0, stop=3, step=1)\n",
      "Index(['name', 'price'], dtype='object')\n"
     ]
    }
   ],
   "source": [
    "df = pd.DataFrame({\n",
    "    'name' : ['apple', 'banana', 'melon'],\n",
    "    'price' : [1000, 1500, 3000] # 3행 2열의 데이터 프레임\n",
    "})\n",
    "\n",
    "print(df)\n",
    "print(df.shape)\n",
    "\n",
    "print(df['name']) # 열에 해당하는 데이터와 정보 출력\n",
    "\n",
    "print(df[:1]) # 행(index)에 해당하는 값 출력. 1부터 시작\n",
    "\n",
    "print(df.index) # 인덱스 정보\n",
    "print(df.columns) # 컬럼 정보"
   ]
  },
  {
   "cell_type": "markdown",
   "metadata": {},
   "source": [
    "## 필터링, 정렬"
   ]
  },
  {
   "cell_type": "code",
   "execution_count": 47,
   "metadata": {},
   "outputs": [
    {
     "name": "stdout",
     "output_type": "stream",
     "text": [
      "0     True\n",
      "1     True\n",
      "2     True\n",
      "3    False\n",
      "4    False\n",
      "5    False\n",
      "Name: weight, dtype: bool\n",
      "\n",
      "    weight  height  gender\n",
      "0      91     180    male\n",
      "1      85     173  female\n",
      "2     100     190    male\n",
      "\n",
      "    weight  height  gender\n",
      "1      85     173  female\n",
      "0      91     180    male\n",
      "2     100     190    male\n",
      "\n",
      "    weight  height  gender\n",
      "2     100     190    male\n",
      "0      91     180    male\n",
      "1      85     173  female\n",
      "\n",
      " weight     72.000000\n",
      "height    171.333333\n",
      "dtype: float64\n",
      "\n",
      "            weight      height\n",
      "gender                       \n",
      "female  67.666667  168.666667\n",
      "male    76.333333  174.000000\n",
      "\n",
      " female\n",
      "   weight  height  gender\n",
      "1      85     173  female\n",
      "3      75     170  female\n",
      "4      43     163  female\n",
      "\n",
      " male\n",
      "   weight  height gender\n",
      "0      91     180   male\n",
      "2     100     190   male\n",
      "5      38     152   male\n"
     ]
    }
   ],
   "source": [
    "df = pd.DataFrame({\n",
    "    'weight': [91, 85, 100, 75, 43, 38],\n",
    "    'height': [180, 173, 190, 170, 163, 152],\n",
    "    'gender': ['male','female', 'male', 'female', 'female', 'male']\n",
    "})\n",
    "\n",
    "\n",
    "df_test = df['weight'] > 80 # 조건에 따라 True / False가 정해진 데이터 프레임\n",
    "print(df_test)\n",
    "\n",
    "df_filtered = df[df['weight'] > 80] # 조건에 따라 filter된 결과만 남음\n",
    "print('\\n',df_filtered)\n",
    "\n",
    "\n",
    "# .sort_values(column값, ascending=(True/False)(생략가능)) : column값 기준 정렬(True : 작은 값부터, False : 큰 값부터)\n",
    "df_sorted1 = df_filtered.sort_values('weight', ascending=True) # 오름차순\n",
    "print('\\n',df_sorted1)\n",
    "\n",
    "df_sorted2 = df_filtered.sort_values('height', ascending=False) # 내림차순\n",
    "print('\\n',df_sorted2)\n",
    "\n",
    "\n",
    "# .groupby(column값) : 데이터를 컬럼 값 그룹으로 묶어줌\n",
    "df_grouped = df.groupby('gender') # 성별에 따라 키와 몸무게를 그룹으로 만듦\n",
    "\n",
    "\n",
    "# .mean() : group에 따라 평균 계산\n",
    "df_mean = df.mean() # 데이터프레임 전체의 평균\n",
    "print('\\n',df_mean)\n",
    "df_grouped_mean = df_grouped.mean() # group 기준인 gender에 따른 키와 몸무게의 평균\n",
    "print('\\n',df_grouped_mean)\n",
    "\n",
    "\n",
    "for key, group in df_grouped:\n",
    "    print('\\n',key) # group을 묶을 때 쓴 key\n",
    "    print(group) # key로 묶인 group"
   ]
  },
  {
   "cell_type": "markdown",
   "metadata": {},
   "source": [
    "## 통계 관련 함수"
   ]
  },
  {
   "cell_type": "code",
   "execution_count": 53,
   "metadata": {},
   "outputs": [
    {
     "name": "stdout",
     "output_type": "stream",
     "text": [
      "413\n",
      "176.8\n",
      "             몸무게           키\n",
      "count   5.000000    5.000000\n",
      "mean   82.600000  176.800000\n",
      "std     8.532292    7.395945\n",
      "min    70.000000  168.000000\n",
      "25%    80.000000  170.000000\n",
      "50%    82.000000  180.000000\n",
      "75%    90.000000  181.000000\n",
      "max    91.000000  185.000000\n",
      "          몸무게         키\n",
      "몸무게  1.000000  0.663979\n",
      "키    0.663979  1.000000\n"
     ]
    }
   ],
   "source": [
    "df = pd.DataFrame({\n",
    "    '몸무게': [70, 80, 90, 82, 91],\n",
    "    '키': [170, 181, 185, 168, 180]})\n",
    "\n",
    "# df[column값].sum() : column값에 해당하는 값들의 총합\n",
    "total_weight = df['몸무게'].sum()\n",
    "print(total_weight)\n",
    "\n",
    "# df[column값].mean() : column값에 해당하는 값들의 평균\n",
    "mean_weight = df['키'].mean()\n",
    "print(mean_weight)\n",
    "\n",
    "# .describe() : 요약된 통계 결과\n",
    "print(df.describe())\n",
    "\n",
    "# .corr() : 항목들간의 상관관계\n",
    "# 상관 계수가 1에 가까울 수록 양의 상관관계가 있고,\n",
    "# -1에 가까울수록 음의 상관관계가 있고,\n",
    "# 0에 가까울수록 서로 상관이 없다.(독립적)\n",
    "corr = df.corr()\n",
    "print(corr)"
   ]
  },
  {
   "cell_type": "markdown",
   "metadata": {},
   "source": [
    "## csv 읽기, 저장하기"
   ]
  },
  {
   "cell_type": "code",
   "execution_count": 58,
   "metadata": {},
   "outputs": [
    {
     "name": "stdout",
     "output_type": "stream",
     "text": [
      "   Unnamed: 0  name  age\n",
      "0           0   Bob   20\n",
      "1           1  Jane   33\n",
      "2           2  Mike   45\n"
     ]
    }
   ],
   "source": [
    "# pd.read_csv(파일명) : 읽기\n",
    "df = pd.read_csv('my_data.csv') # 읽기\n",
    "print(df)"
   ]
  },
  {
   "cell_type": "code",
   "execution_count": 59,
   "metadata": {},
   "outputs": [],
   "source": [
    "# .to_csv(파일명) : 쓰기\n",
    "# .to_csv('경로+파일명', sep=',', na_rep='NaN')\n",
    "#     sep=',' : seperator, delimiter (구분자)\n",
    "#     na_rep='NaN' : missing data representation (결측값 표기)\n",
    "\n",
    "\n",
    "\n",
    "출처: https://rfriend.tistory.com/252 [R, Python 분석과 프로그래밍의 친구 (by R Friend)]\n",
    "df = pd.DataFrame({\n",
    "    'name': ['Bob', 'Jane', 'Mike'],\n",
    "    'age': [20, 33, 45]\n",
    "})\n",
    "\n",
    "df.to_csv('my_data.csv') # 쓰기"
   ]
  }
 ],
 "metadata": {
  "kernelspec": {
   "display_name": "Python 3",
   "language": "python",
   "name": "python3"
  },
  "language_info": {
   "codemirror_mode": {
    "name": "ipython",
    "version": 3
   },
   "file_extension": ".py",
   "mimetype": "text/x-python",
   "name": "python",
   "nbconvert_exporter": "python",
   "pygments_lexer": "ipython3",
   "version": "3.6.8"
  }
 },
 "nbformat": 4,
 "nbformat_minor": 4
}
