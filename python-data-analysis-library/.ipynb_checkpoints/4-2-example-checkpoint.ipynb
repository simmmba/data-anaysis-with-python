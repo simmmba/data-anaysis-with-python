{
 "cells": [
  {
   "cell_type": "markdown",
   "metadata": {},
   "source": [
    "# example-2\n",
    "\n",
    "### 온라인 쇼핑몰 데이터\n",
    "\n",
    "- 공공 데이터 포털, 네이버 스마트 스토어\n",
    "- good_id(제품 id), sales_price(가격), pun_name(종류) 등등"
   ]
  },
  {
   "cell_type": "code",
   "execution_count": 7,
   "metadata": {},
   "outputs": [
    {
     "name": "stdout",
     "output_type": "stream",
     "text": [
      "         sales_price                       discount_price            \\\n",
      "                amin    amax          mean           amin      amax   \n",
      "pum_name                                                              \n",
      "가정용비닐용품         4490    6790   5640.000000         4490.0    6790.0   \n",
      "간장               980  384000  49505.796345          980.0  108000.0   \n",
      "고구마             1100   87800  27596.172507         1100.0   87800.0   \n",
      "고등어              900  808020  44092.158879          900.0  123100.0   \n",
      "고사리             3990    3990   3990.000000         3990.0    3990.0   \n",
      "...              ...     ...           ...            ...       ...   \n",
      "현미              3000  115000  23442.947368         3000.0  115000.0   \n",
      "혼합음료             590  189000  33602.509960          750.0   79900.0   \n",
      "혼합조미료            930  384000  21234.324324          930.0   74200.0   \n",
      "화장지             3300  135000  28775.028902         3300.0  135000.0   \n",
      "회화용구             500  388800  21094.057971          490.0  388800.0   \n",
      "\n",
      "                        \n",
      "                  mean  \n",
      "pum_name                \n",
      "가정용비닐용품    5640.000000  \n",
      "간장        11503.550000  \n",
      "고구마       27044.447439  \n",
      "고등어       27978.526786  \n",
      "고사리        3990.000000  \n",
      "...                ...  \n",
      "현미        23430.526316  \n",
      "혼합음료      12614.743590  \n",
      "혼합조미료     10817.027027  \n",
      "화장지       27363.468208  \n",
      "회화용구      20040.202899  \n",
      "\n",
      "[116 rows x 6 columns] \n",
      "\n"
     ]
    }
   ],
   "source": [
    "import pandas as pd\n",
    "import numpy as np\n",
    "\n",
    "df = pd.read_csv('commerce_20190301.csv')\n",
    "\n",
    "print(df[df['sales_price'] < 10000], '\\n')\n",
    "\n",
    "df_filtered = df[df['sales_price'] < 10000]\n",
    "df_sorted = df_filtered.sort_values('sales_price', ascending=\"False\") # 저렴한 가격 순서\n",
    "print(df_sorted.head(5), '\\n')\n",
    "\n",
    "category = df.groupby('pum_name') # 항목별 데이터 그룹\n",
    "\n",
    "# .agg(함수, ...) : 데이터 프레임에 여러 함수 적용할 때\n",
    "category_agg = category.agg([np.min, np.max, np.mean])\n",
    "\n",
    "print(category_agg, '\\n')\n",
    "print( category_agg.columns, '\\n')\n",
    "print( category_agg[['sales_price', 'discount_price']], '\\n') # sales_price와 discount_price 열만 확인"
   ]
  },
  {
   "cell_type": "code",
   "execution_count": null,
   "metadata": {},
   "outputs": [],
   "source": [
    "running_suit = grouped_by_category.get_group('운동복') # 제품 종류 중에서 운동복만 가져다 쓰려고 합니다.\n",
    "print(running_suit)\n",
    "print(running_suit.min())\n",
    "print(running_suit.max())"
   ]
  }
 ],
 "metadata": {
  "kernelspec": {
   "display_name": "Python 3",
   "language": "python",
   "name": "python3"
  },
  "language_info": {
   "codemirror_mode": {
    "name": "ipython",
    "version": 3
   },
   "file_extension": ".py",
   "mimetype": "text/x-python",
   "name": "python",
   "nbconvert_exporter": "python",
   "pygments_lexer": "ipython3",
   "version": "3.6.8"
  }
 },
 "nbformat": 4,
 "nbformat_minor": 4
}
