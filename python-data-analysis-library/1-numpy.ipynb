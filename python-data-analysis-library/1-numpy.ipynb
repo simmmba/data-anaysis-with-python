{
 "cells": [
  {
   "cell_type": "markdown",
   "metadata": {},
   "source": [
    "# dimension(차원)\n",
    "\n",
    "- 중첩된 구조의 리스트(리스트 안에 리스트)를 사용할 때가 있다.\n",
    "- 데이터 분야에서 중첩된 정도를 구분하기 위해 dimension(차원)을 사용한다.\n",
    "- ex) 1번 중첩 : 1차원, 2번 중첩 : 2차원\n",
    "\n",
    "- 일반적인 리스트로는 중첩된 자료를 처리하는 것이 느리고 복잡하기 때문에\n",
    "  numpy 라이브러리를 많이 사용한다."
   ]
  },
  {
   "cell_type": "code",
   "execution_count": null,
   "metadata": {},
   "outputs": [],
   "source": [
    "# 1차원\n",
    "[1, 2, 3]\n",
    "\n",
    "# 2차원\n",
    "[[1, 2, 3], [4, 5, 6]]\n",
    "\n",
    "# 3차원\n",
    "[\n",
    "    [[1, 2, 3], [4, 5, 6]],\n",
    "    [[7, 8, 9], [10, 11, 12]]\n",
    "]"
   ]
  },
  {
   "cell_type": "markdown",
   "metadata": {},
   "source": [
    "# numpy\n",
    "\n",
    "- 과학 연산을 위한 라이브러리\n",
    "- 리스트, 배열, 매트릭스 연산을 빠르게 할 수 있도록 도와줌\n",
    "- 리스트와 numpy 속도 차이 : 30~40배"
   ]
  },
  {
   "cell_type": "code",
   "execution_count": null,
   "metadata": {},
   "outputs": [],
   "source": [
    "import numpy as np"
   ]
  },
  {
   "cell_type": "code",
   "execution_count": 7,
   "metadata": {},
   "outputs": [
    {
     "name": "stdout",
     "output_type": "stream",
     "text": [
      "(3,)\n",
      "1\n",
      "(2, 3)\n",
      "[4 5 6]\n",
      "5\n",
      "(2, 2, 3)\n"
     ]
    }
   ],
   "source": [
    "# numpy 배열\n",
    "ar1 = np.array([1, 2, 3]) # 1행 3열\n",
    "ar2 = np.array([[1, 2, 3], [4, 5, 6]]) # 2행 3열\n",
    "ar3 = np.array([\n",
    "    [[1, 2, 3], [4, 5, 6]],\n",
    "    [[7, 8, 9], [10, 11, 12]]\n",
    "])\n",
    "\n",
    "print(ar1.shape) # .shape : 몇행, 몇열로 구성되었는지 출력\n",
    "print(ar1[0])\n",
    "\n",
    "print(ar2.shape)\n",
    "print(ar2[1]) # 행 기준 출력\n",
    "print(ar2[1, 1])\n",
    "\n",
    "print(ar3.shape)"
   ]
  },
  {
   "cell_type": "code",
   "execution_count": 13,
   "metadata": {},
   "outputs": [
    {
     "name": "stdout",
     "output_type": "stream",
     "text": [
      "[[False False False]\n",
      " [False  True  True]]\n",
      "[5 6]\n"
     ]
    }
   ],
   "source": [
    "bool_idx = (ar2 > 4)\n",
    "\n",
    "print(bool_idx) # 각 값이 조건에 따라 True, False로 출력됨\n",
    "print(ar2[ar2 > 4]) # 조건에 해당하는 값만 출력됨"
   ]
  },
  {
   "cell_type": "code",
   "execution_count": 21,
   "metadata": {},
   "outputs": [
    {
     "name": "stdout",
     "output_type": "stream",
     "text": [
      "[[11 13]\n",
      " [15 17]]\n",
      "[[11 13]\n",
      " [15 17]]\n",
      "[[-9 -9]\n",
      " [-9 -9]]\n",
      "[[-9 -9]\n",
      " [-9 -9]]\n",
      "[[10 22]\n",
      " [36 52]]\n",
      "[[10 22]\n",
      " [36 52]]\n",
      "[[0.1        0.18181818]\n",
      " [0.25       0.30769231]]\n",
      "[[0.1        0.18181818]\n",
      " [0.25       0.30769231]]\n"
     ]
    }
   ],
   "source": [
    "ar11 = np.array([\n",
    "    [1,2],\n",
    "    [3,4]\n",
    "])\n",
    "\n",
    "ar22 = np.array([\n",
    "    [10, 11],\n",
    "    [12, 13]\n",
    "])\n",
    "\n",
    "# 각 행, 열에 대응되는 값끼리 연산\n",
    "print(ar11 + ar22)\n",
    "print(np.add(ar11, ar22)) # np.add\n",
    "\n",
    "print(ar11 - ar22)\n",
    "print(np.subtract(ar11, ar22)) # np.subtract\n",
    "\n",
    "print(ar11 * ar22)\n",
    "print(np.multiply(ar11, ar22)) # np.multiply\n",
    "\n",
    "print(ar11 / ar22)\n",
    "print(np.divide(ar11, ar22)) # np.divide"
   ]
  },
  {
   "cell_type": "markdown",
   "metadata": {},
   "source": [
    "#### 행렬 연산"
   ]
  },
  {
   "cell_type": "code",
   "execution_count": 30,
   "metadata": {},
   "outputs": [
    {
     "name": "stdout",
     "output_type": "stream",
     "text": [
      "10\n",
      "[4 6]\n",
      "[3 7]\n",
      "24\n",
      "[3 8]\n",
      "[ 2 12]\n",
      "[[19 22]\n",
      " [43 50]]\n"
     ]
    }
   ],
   "source": [
    "list1 = np.array([\n",
    "    [1, 2],\n",
    "    [3, 4]\n",
    "])\n",
    "list2 = np.array([\n",
    "    [5, 6],\n",
    "    [7, 8]\n",
    "])\n",
    "\n",
    "# np.sum : 배열의 요소 더하기\n",
    "print(np.sum(list1)) # np.sum(배열) : 모든 값 더하기\n",
    "print(np.sum(list1, axis = 0)) # np.sum(배열, axis=0) : 열(column)끼리 값 더하기\n",
    "print(np.sum(list1, axis = 1)) # np.sum(배열, axis=1) : 행(row)끼리 값 더하기\n",
    "\n",
    "# np.prod : 배열의 요소 곱하기\n",
    "print(np.prod(list1)) # np.sum(배열) : 모든 값 곱하기\n",
    "print(np.prod(list1, axis = 0)) # np.sum(배열, axis=0) : 열(column)끼리 값 곱하기\n",
    "print(np.prod(list1, axis = 1)) # np.sum(배열, axis=1) : 행(row)끼리 값 곱하기\n",
    "\n",
    "# 행렬의 곱(product) : np.dot\n",
    "print(np.dot(list1, list2))"
   ]
  }
 ],
 "metadata": {
  "kernelspec": {
   "display_name": "Python 3",
   "language": "python",
   "name": "python3"
  },
  "language_info": {
   "codemirror_mode": {
    "name": "ipython",
    "version": 3
   },
   "file_extension": ".py",
   "mimetype": "text/x-python",
   "name": "python",
   "nbconvert_exporter": "python",
   "pygments_lexer": "ipython3",
   "version": "3.6.8"
  }
 },
 "nbformat": 4,
 "nbformat_minor": 4
}
