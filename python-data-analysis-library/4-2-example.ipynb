{
 "cells": [
  {
   "cell_type": "markdown",
   "metadata": {},
   "source": [
    "# example-2\n",
    "\n",
    "### 온라인 쇼핑몰 데이터\n",
    "\n",
    "- 공공 데이터 포털, 네이버 스마트 스토어\n",
    "- good_id(제품 id), sales_price(가격), pun_name(종류) 등등"
   ]
  },
  {
   "cell_type": "code",
   "execution_count": 7,
   "metadata": {},
   "outputs": [
    {
     "name": "stdout",
     "output_type": "stream",
     "text": [
      "         sales_price                       discount_price            \\\n",
      "                amin    amax          mean           amin      amax   \n",
      "pum_name                                                              \n",
      "가정용비닐용품         4490    6790   5640.000000         4490.0    6790.0   \n",
      "간장               980  384000  49505.796345          980.0  108000.0   \n",
      "고구마             1100   87800  27596.172507         1100.0   87800.0   \n",
      "고등어              900  808020  44092.158879          900.0  123100.0   \n",
      "고사리             3990    3990   3990.000000         3990.0    3990.0   \n",
      "...              ...     ...           ...            ...       ...   \n",
      "현미              3000  115000  23442.947368         3000.0  115000.0   \n",
      "혼합음료             590  189000  33602.509960          750.0   79900.0   \n",
      "혼합조미료            930  384000  21234.324324          930.0   74200.0   \n",
      "화장지             3300  135000  28775.028902         3300.0  135000.0   \n",
      "회화용구             500  388800  21094.057971          490.0  388800.0   \n",
      "\n",
      "                        \n",
      "                  mean  \n",
      "pum_name                \n",
      "가정용비닐용품    5640.000000  \n",
      "간장        11503.550000  \n",
      "고구마       27044.447439  \n",
      "고등어       27978.526786  \n",
      "고사리        3990.000000  \n",
      "...                ...  \n",
      "현미        23430.526316  \n",
      "혼합음료      12614.743590  \n",
      "혼합조미료     10817.027027  \n",
      "화장지       27363.468208  \n",
      "회화용구      20040.202899  \n",
      "\n",
      "[116 rows x 6 columns] \n",
      "\n"
     ]
    }
   ],
   "source": [
    "import pandas as pd\n",
    "import numpy as np\n",
    "\n",
    "df = pd.read_csv('commerce_20190301.csv')\n",
    "\n",
    "print(df[df['sales_price'] < 10000], '\\n')\n",
    "\n",
    "df_filtered = df[df['sales_price'] < 10000]\n",
    "df_sorted = df_filtered.sort_values('sales_price', ascending=\"False\") # 저렴한 가격 순서\n",
    "print(df_sorted.head(5), '\\n')\n",
    "\n",
    "category = df.groupby('pum_name') # 항목별 데이터 그룹\n",
    "\n",
    "# .agg(함수, ...) : 데이터 프레임에 여러 함수 적용할 때\n",
    "category_agg = category.agg([np.min, np.max, np.mean])\n",
    "\n",
    "print(category_agg, '\\n')\n",
    "print( category_agg.columns, '\\n')\n",
    "print( category_agg[['sales_price', 'discount_price']], '\\n') # sales_price와 discount_price 열만 확인"
   ]
  },
  {
   "cell_type": "code",
   "execution_count": 16,
   "metadata": {},
   "outputs": [
    {
     "name": "stdout",
     "output_type": "stream",
     "text": [
      "       collect_day     good_id   pum_id pum_name  \\\n",
      "667     2019-03-01  1004607951  C013050      운동복   \n",
      "674     2019-03-01  1004634761  C013050      운동복   \n",
      "680     2019-03-01  1004638823  C013050      운동복   \n",
      "684     2019-03-01  1004662846  C013050      운동복   \n",
      "1426    2019-03-01  1009875736  C013050      운동복   \n",
      "...            ...         ...      ...      ...   \n",
      "197356  2019-03-01   998763151  C013050      운동복   \n",
      "198024  2019-03-01   946153361  C013050      운동복   \n",
      "198704  2019-03-01    90655224  C013050      운동복   \n",
      "199108  2019-03-01   956237075  C013050      운동복   \n",
      "199109  2019-03-01   956260972  C013050      운동복   \n",
      "\n",
      "                                                good_name  sales_price  \\\n",
      "667     (색상 : 블루 | 사이즈 : M) 여성 애슬레저 히든포켓 운동복 하의 요가바지 여...        43750   \n",
      "674     (색상 : 블루 | 사이즈 : L) 여성 애슬레저 히든포켓 운동복 하의 여성트레이닝...        43750   \n",
      "680     (색상 : 다크그레이 | 사이즈 : M) 여성 애슬레저 히든포켓 운동복 하의 요가팬...        43750   \n",
      "684     (색상 : 다크그레이 | 사이즈 : L) 여성 애슬레저 히든포켓 운동복 하의 여자트...        43750   \n",
      "1426    (사이즈 선택 : 100(XL)) DYT 오픈져지(GLS-642) 운동복 스포츠의류...        82960   \n",
      "...                                                   ...          ...   \n",
      "197356  [나이키] (SIZE : 090) AS 레볼루션 니트 트랙 수트(693489452)...       175150   \n",
      "198024                      여성 집업 후드 레쉬가드 요가복 상의 여자 운동복 헬        26100   \n",
      "198704  [엠씨엔] (상의 : 2XL | 하의 : 2XL) DYT 카투스 반팔 져지+카투스 ...       295630   \n",
      "199108  (옵션 : 90) 아디다스 A1 3S 니트 트랙탑(S15955) 긴팔운동복 트랙탑 ...        68120   \n",
      "199109  (옵션 : 95) 아디다스 A1 3S 니트 트랙탑(S15955) 긴팔집업 츄리닝상의...        68120   \n",
      "\n",
      "        discount_price  benifit  \n",
      "667                NaN      NaN  \n",
      "674                NaN      NaN  \n",
      "680                NaN      NaN  \n",
      "684                NaN      NaN  \n",
      "1426               NaN      NaN  \n",
      "...                ...      ...  \n",
      "197356             NaN      NaN  \n",
      "198024             NaN      NaN  \n",
      "198704             NaN      NaN  \n",
      "199108             NaN      NaN  \n",
      "199109             NaN      NaN  \n",
      "\n",
      "[1194 rows x 8 columns] \n",
      "\n",
      "4350 \n",
      "\n",
      "collect_day                      2019-03-01\n",
      "good_id                          2144415987\n",
      "pum_id                              C013050\n",
      "pum_name                                운동복\n",
      "good_name         후드티셔츠 레깅스 팬츠 세트 트레이닝복 운동복\n",
      "sales_price                          389920\n",
      "discount_price                        62560\n",
      "benifit                              -16440\n",
      "dtype: object\n"
     ]
    }
   ],
   "source": [
    "running_suit = category.get_group('운동복') # 제품 종류 중 운동복만\n",
    "\n",
    "print(running_suit, '\\n')\n",
    "print(running_suit['sales_price'].min(), '\\n')\n",
    "print(running_suit.max())"
   ]
  }
 ],
 "metadata": {
  "kernelspec": {
   "display_name": "Python 3",
   "language": "python",
   "name": "python3"
  },
  "language_info": {
   "codemirror_mode": {
    "name": "ipython",
    "version": 3
   },
   "file_extension": ".py",
   "mimetype": "text/x-python",
   "name": "python",
   "nbconvert_exporter": "python",
   "pygments_lexer": "ipython3",
   "version": "3.6.8"
  }
 },
 "nbformat": 4,
 "nbformat_minor": 4
}
